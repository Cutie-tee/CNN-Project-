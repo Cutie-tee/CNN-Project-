{
  "nbformat": 4,
  "nbformat_minor": 0,
  "metadata": {
    "colab": {
      "provenance": [],
      "include_colab_link": true
    },
    "kernelspec": {
      "name": "python3",
      "display_name": "Python 3"
    },
    "language_info": {
      "name": "python"
    }
  },
  "cells": [
    {
      "cell_type": "markdown",
      "metadata": {
        "id": "view-in-github",
        "colab_type": "text"
      },
      "source": [
        "<a href=\"https://colab.research.google.com/github/Marvin2798/CNN-Project-/blob/main/CNN.ipynb\" target=\"_parent\"><img src=\"https://colab.research.google.com/assets/colab-badge.svg\" alt=\"Open In Colab\"/></a>"
      ]
    },
    {
      "cell_type": "markdown",
      "source": [
        "Project Link : https://github.com/ironhack-labs/project-1-deep-learning-image-classification-with-cnn/blob/main/README.md#project-i--deep-learning-image-classification-with-cnn"
      ],
      "metadata": {
        "id": "F4PQLGbXXIdF"
      }
    },
    {
      "cell_type": "markdown",
      "source": [
        "1. Loading and Data Processing"
      ],
      "metadata": {
        "id": "4YqKMWISg2Nx"
      }
    },
    {
      "cell_type": "code",
      "execution_count": null,
      "metadata": {
        "id": "9VcsPJmFXHxa",
        "outputId": "16cd3b53-446f-471c-e9d2-faf415de24ca",
        "colab": {
          "base_uri": "https://localhost:8080/"
        }
      },
      "outputs": [
        {
          "output_type": "stream",
          "name": "stdout",
          "text": [
            "Downloading data from https://www.cs.toronto.edu/~kriz/cifar-10-python.tar.gz\n",
            "\u001b[1m170498071/170498071\u001b[0m \u001b[32m━━━━━━━━━━━━━━━━━━━━\u001b[0m\u001b[37m\u001b[0m \u001b[1m4s\u001b[0m 0us/step\n"
          ]
        }
      ],
      "source": [
        "from tensorflow.keras.datasets import cifar10\n",
        "#loading the dataset since we can access it through keras\n",
        "(X_train, y_train), (X_test, y_test) = cifar10.load_data()"
      ]
    },
    {
      "cell_type": "code",
      "source": [
        "#normalise the pixel values to 0 and 1 by dividing by 255\n",
        "X_train = X_train.astype('float32') / 255.0\n",
        "X_test = X_test.astype('float32') / 255.0\n",
        "X_train\n",
        "X_test\n"
      ],
      "metadata": {
        "id": "k_XV2ERsv-NN",
        "colab": {
          "base_uri": "https://localhost:8080/"
        },
        "outputId": "50c8a05d-4863-4e92-cfe3-835ad78b9af2"
      },
      "execution_count": null,
      "outputs": [
        {
          "output_type": "execute_result",
          "data": {
            "text/plain": [
              "array([[[[0.61960787, 0.4392157 , 0.19215687],\n",
              "         [0.62352943, 0.43529412, 0.18431373],\n",
              "         [0.64705884, 0.45490196, 0.2       ],\n",
              "         ...,\n",
              "         [0.5372549 , 0.37254903, 0.14117648],\n",
              "         [0.49411765, 0.35686275, 0.14117648],\n",
              "         [0.45490196, 0.33333334, 0.12941177]],\n",
              "\n",
              "        [[0.59607846, 0.4392157 , 0.2       ],\n",
              "         [0.5921569 , 0.43137255, 0.15686275],\n",
              "         [0.62352943, 0.44705883, 0.1764706 ],\n",
              "         ...,\n",
              "         [0.53333336, 0.37254903, 0.12156863],\n",
              "         [0.49019608, 0.35686275, 0.1254902 ],\n",
              "         [0.46666667, 0.34509805, 0.13333334]],\n",
              "\n",
              "        [[0.5921569 , 0.43137255, 0.18431373],\n",
              "         [0.5921569 , 0.42745098, 0.12941177],\n",
              "         [0.61960787, 0.43529412, 0.14117648],\n",
              "         ...,\n",
              "         [0.54509807, 0.38431373, 0.13333334],\n",
              "         [0.50980395, 0.37254903, 0.13333334],\n",
              "         [0.47058824, 0.34901962, 0.12941177]],\n",
              "\n",
              "        ...,\n",
              "\n",
              "        [[0.26666668, 0.4862745 , 0.69411767],\n",
              "         [0.16470589, 0.39215687, 0.5803922 ],\n",
              "         [0.12156863, 0.34509805, 0.5372549 ],\n",
              "         ...,\n",
              "         [0.14901961, 0.38039216, 0.57254905],\n",
              "         [0.05098039, 0.2509804 , 0.42352942],\n",
              "         [0.15686275, 0.33333334, 0.49803922]],\n",
              "\n",
              "        [[0.23921569, 0.45490196, 0.65882355],\n",
              "         [0.19215687, 0.4       , 0.5803922 ],\n",
              "         [0.13725491, 0.33333334, 0.5176471 ],\n",
              "         ...,\n",
              "         [0.10196079, 0.32156864, 0.50980395],\n",
              "         [0.11372549, 0.32156864, 0.49411765],\n",
              "         [0.07843138, 0.2509804 , 0.41960785]],\n",
              "\n",
              "        [[0.21176471, 0.41960785, 0.627451  ],\n",
              "         [0.21960784, 0.4117647 , 0.58431375],\n",
              "         [0.1764706 , 0.34901962, 0.5176471 ],\n",
              "         ...,\n",
              "         [0.09411765, 0.3019608 , 0.4862745 ],\n",
              "         [0.13333334, 0.32941177, 0.5058824 ],\n",
              "         [0.08235294, 0.2627451 , 0.43137255]]],\n",
              "\n",
              "\n",
              "       [[[0.92156863, 0.92156863, 0.92156863],\n",
              "         [0.90588236, 0.90588236, 0.90588236],\n",
              "         [0.9098039 , 0.9098039 , 0.9098039 ],\n",
              "         ...,\n",
              "         [0.9137255 , 0.9137255 , 0.9137255 ],\n",
              "         [0.9137255 , 0.9137255 , 0.9137255 ],\n",
              "         [0.9098039 , 0.9098039 , 0.9098039 ]],\n",
              "\n",
              "        [[0.93333334, 0.93333334, 0.93333334],\n",
              "         [0.92156863, 0.92156863, 0.92156863],\n",
              "         [0.92156863, 0.92156863, 0.92156863],\n",
              "         ...,\n",
              "         [0.9254902 , 0.9254902 , 0.9254902 ],\n",
              "         [0.9254902 , 0.9254902 , 0.9254902 ],\n",
              "         [0.92156863, 0.92156863, 0.92156863]],\n",
              "\n",
              "        [[0.92941177, 0.92941177, 0.92941177],\n",
              "         [0.91764706, 0.91764706, 0.91764706],\n",
              "         [0.91764706, 0.91764706, 0.91764706],\n",
              "         ...,\n",
              "         [0.92156863, 0.92156863, 0.92156863],\n",
              "         [0.92156863, 0.92156863, 0.92156863],\n",
              "         [0.91764706, 0.91764706, 0.91764706]],\n",
              "\n",
              "        ...,\n",
              "\n",
              "        [[0.34117648, 0.3882353 , 0.34901962],\n",
              "         [0.16862746, 0.2       , 0.14509805],\n",
              "         [0.07450981, 0.09019608, 0.04313726],\n",
              "         ...,\n",
              "         [0.6627451 , 0.72156864, 0.7019608 ],\n",
              "         [0.7137255 , 0.77254903, 0.75686276],\n",
              "         [0.7372549 , 0.7921569 , 0.7882353 ]],\n",
              "\n",
              "        [[0.32156864, 0.3764706 , 0.32156864],\n",
              "         [0.18039216, 0.22352941, 0.14117648],\n",
              "         [0.14117648, 0.17254902, 0.08627451],\n",
              "         ...,\n",
              "         [0.68235296, 0.7411765 , 0.7176471 ],\n",
              "         [0.7254902 , 0.78431374, 0.76862746],\n",
              "         [0.73333335, 0.7921569 , 0.78431374]],\n",
              "\n",
              "        [[0.33333334, 0.39607844, 0.3254902 ],\n",
              "         [0.24313726, 0.29411766, 0.1882353 ],\n",
              "         [0.22745098, 0.2627451 , 0.14901961],\n",
              "         ...,\n",
              "         [0.65882355, 0.7176471 , 0.69803923],\n",
              "         [0.7058824 , 0.7647059 , 0.7490196 ],\n",
              "         [0.7294118 , 0.78431374, 0.78039217]]],\n",
              "\n",
              "\n",
              "       [[[0.61960787, 0.74509805, 0.87058824],\n",
              "         [0.61960787, 0.73333335, 0.85490197],\n",
              "         [0.54509807, 0.6509804 , 0.7607843 ],\n",
              "         ...,\n",
              "         [0.89411765, 0.90588236, 0.91764706],\n",
              "         [0.92941177, 0.9372549 , 0.9529412 ],\n",
              "         [0.93333334, 0.94509804, 0.9647059 ]],\n",
              "\n",
              "        [[0.6666667 , 0.78431374, 0.8980392 ],\n",
              "         [0.6745098 , 0.78039217, 0.8862745 ],\n",
              "         [0.5921569 , 0.6901961 , 0.7882353 ],\n",
              "         ...,\n",
              "         [0.9098039 , 0.9098039 , 0.9254902 ],\n",
              "         [0.9647059 , 0.9647059 , 0.98039216],\n",
              "         [0.9647059 , 0.96862745, 0.9843137 ]],\n",
              "\n",
              "        [[0.68235296, 0.7882353 , 0.88235295],\n",
              "         [0.6901961 , 0.78431374, 0.87058824],\n",
              "         [0.6156863 , 0.7019608 , 0.78039217],\n",
              "         ...,\n",
              "         [0.9019608 , 0.8980392 , 0.9098039 ],\n",
              "         [0.98039216, 0.9764706 , 0.9843137 ],\n",
              "         [0.9607843 , 0.95686275, 0.96862745]],\n",
              "\n",
              "        ...,\n",
              "\n",
              "        [[0.12156863, 0.15686275, 0.1764706 ],\n",
              "         [0.11764706, 0.15294118, 0.17254902],\n",
              "         [0.10196079, 0.13725491, 0.15686275],\n",
              "         ...,\n",
              "         [0.14509805, 0.15686275, 0.18039216],\n",
              "         [0.03529412, 0.05098039, 0.05490196],\n",
              "         [0.01568628, 0.02745098, 0.01960784]],\n",
              "\n",
              "        [[0.09019608, 0.13333334, 0.15294118],\n",
              "         [0.10588235, 0.14901961, 0.16862746],\n",
              "         [0.09803922, 0.14117648, 0.16078432],\n",
              "         ...,\n",
              "         [0.07450981, 0.07843138, 0.09411765],\n",
              "         [0.01568628, 0.02352941, 0.01176471],\n",
              "         [0.01960784, 0.02745098, 0.01176471]],\n",
              "\n",
              "        [[0.10980392, 0.16078432, 0.18431373],\n",
              "         [0.11764706, 0.16862746, 0.19607843],\n",
              "         [0.1254902 , 0.1764706 , 0.20392157],\n",
              "         ...,\n",
              "         [0.01960784, 0.02352941, 0.03137255],\n",
              "         [0.01568628, 0.01960784, 0.01176471],\n",
              "         [0.02745098, 0.03137255, 0.02745098]]],\n",
              "\n",
              "\n",
              "       ...,\n",
              "\n",
              "\n",
              "       [[[0.07843138, 0.05882353, 0.04705882],\n",
              "         [0.07450981, 0.05490196, 0.04313726],\n",
              "         [0.05882353, 0.05490196, 0.04313726],\n",
              "         ...,\n",
              "         [0.03921569, 0.03529412, 0.02745098],\n",
              "         [0.04705882, 0.04313726, 0.03529412],\n",
              "         [0.05098039, 0.04705882, 0.03921569]],\n",
              "\n",
              "        [[0.08235294, 0.0627451 , 0.05098039],\n",
              "         [0.07843138, 0.0627451 , 0.05098039],\n",
              "         [0.07058824, 0.06666667, 0.04705882],\n",
              "         ...,\n",
              "         [0.03921569, 0.03529412, 0.02745098],\n",
              "         [0.03921569, 0.03529412, 0.02745098],\n",
              "         [0.04705882, 0.04313726, 0.03529412]],\n",
              "\n",
              "        [[0.08235294, 0.0627451 , 0.05098039],\n",
              "         [0.08235294, 0.06666667, 0.04705882],\n",
              "         [0.07843138, 0.07058824, 0.04313726],\n",
              "         ...,\n",
              "         [0.04705882, 0.04313726, 0.03529412],\n",
              "         [0.04705882, 0.04313726, 0.03529412],\n",
              "         [0.05098039, 0.04705882, 0.03921569]],\n",
              "\n",
              "        ...,\n",
              "\n",
              "        [[0.12941177, 0.09803922, 0.05098039],\n",
              "         [0.13333334, 0.10196079, 0.05882353],\n",
              "         [0.13333334, 0.10196079, 0.05882353],\n",
              "         ...,\n",
              "         [0.10980392, 0.09803922, 0.20392157],\n",
              "         [0.11372549, 0.09803922, 0.22745098],\n",
              "         [0.09019608, 0.07843138, 0.16470589]],\n",
              "\n",
              "        [[0.12941177, 0.09803922, 0.05490196],\n",
              "         [0.13333334, 0.10196079, 0.05882353],\n",
              "         [0.13333334, 0.10196079, 0.05882353],\n",
              "         ...,\n",
              "         [0.10588235, 0.09411765, 0.20392157],\n",
              "         [0.10588235, 0.09411765, 0.21960784],\n",
              "         [0.09803922, 0.08627451, 0.18431373]],\n",
              "\n",
              "        [[0.12156863, 0.09019608, 0.04705882],\n",
              "         [0.1254902 , 0.09411765, 0.05098039],\n",
              "         [0.12941177, 0.09803922, 0.05490196],\n",
              "         ...,\n",
              "         [0.09411765, 0.09019608, 0.19607843],\n",
              "         [0.10196079, 0.09019608, 0.20784314],\n",
              "         [0.09803922, 0.07843138, 0.18431373]]],\n",
              "\n",
              "\n",
              "       [[[0.09803922, 0.15686275, 0.04705882],\n",
              "         [0.05882353, 0.14117648, 0.01176471],\n",
              "         [0.09019608, 0.16078432, 0.07058824],\n",
              "         ...,\n",
              "         [0.23921569, 0.32156864, 0.30588236],\n",
              "         [0.36078432, 0.44313726, 0.4392157 ],\n",
              "         [0.29411766, 0.34901962, 0.36078432]],\n",
              "\n",
              "        [[0.04705882, 0.09803922, 0.02352941],\n",
              "         [0.07843138, 0.14509805, 0.02745098],\n",
              "         [0.09411765, 0.14117648, 0.05882353],\n",
              "         ...,\n",
              "         [0.4509804 , 0.5254902 , 0.5411765 ],\n",
              "         [0.58431375, 0.65882355, 0.69411767],\n",
              "         [0.40784314, 0.45882353, 0.5137255 ]],\n",
              "\n",
              "        [[0.04705882, 0.09803922, 0.04313726],\n",
              "         [0.05882353, 0.11372549, 0.02352941],\n",
              "         [0.13333334, 0.15686275, 0.09411765],\n",
              "         ...,\n",
              "         [0.6039216 , 0.6745098 , 0.7137255 ],\n",
              "         [0.6156863 , 0.6862745 , 0.7529412 ],\n",
              "         [0.45490196, 0.5058824 , 0.5921569 ]],\n",
              "\n",
              "        ...,\n",
              "\n",
              "        [[0.39215687, 0.5058824 , 0.31764707],\n",
              "         [0.40392157, 0.5176471 , 0.32941177],\n",
              "         [0.40784314, 0.5254902 , 0.3372549 ],\n",
              "         ...,\n",
              "         [0.38039216, 0.5019608 , 0.32941177],\n",
              "         [0.38431373, 0.49411765, 0.32941177],\n",
              "         [0.35686275, 0.4745098 , 0.30980393]],\n",
              "\n",
              "        [[0.40392157, 0.5176471 , 0.3254902 ],\n",
              "         [0.40784314, 0.5137255 , 0.3254902 ],\n",
              "         [0.41960785, 0.5294118 , 0.34117648],\n",
              "         ...,\n",
              "         [0.39607844, 0.5176471 , 0.34117648],\n",
              "         [0.3882353 , 0.49803922, 0.32941177],\n",
              "         [0.36078432, 0.4745098 , 0.30980393]],\n",
              "\n",
              "        [[0.37254903, 0.49411765, 0.30588236],\n",
              "         [0.37254903, 0.48235294, 0.29803923],\n",
              "         [0.39607844, 0.5019608 , 0.31764707],\n",
              "         ...,\n",
              "         [0.3647059 , 0.4862745 , 0.3137255 ],\n",
              "         [0.37254903, 0.48235294, 0.31764707],\n",
              "         [0.36078432, 0.47058824, 0.3137255 ]]],\n",
              "\n",
              "\n",
              "       [[[0.28627452, 0.30588236, 0.29411766],\n",
              "         [0.38431373, 0.40392157, 0.44313726],\n",
              "         [0.3882353 , 0.41568628, 0.44705883],\n",
              "         ...,\n",
              "         [0.5294118 , 0.5882353 , 0.59607846],\n",
              "         [0.5294118 , 0.58431375, 0.6039216 ],\n",
              "         [0.79607844, 0.84313726, 0.8745098 ]],\n",
              "\n",
              "        [[0.27058825, 0.28627452, 0.27450982],\n",
              "         [0.32941177, 0.34901962, 0.38039216],\n",
              "         [0.26666668, 0.29411766, 0.31764707],\n",
              "         ...,\n",
              "         [0.33333334, 0.37254903, 0.34901962],\n",
              "         [0.2784314 , 0.32156864, 0.3137255 ],\n",
              "         [0.47058824, 0.52156866, 0.5294118 ]],\n",
              "\n",
              "        [[0.27058825, 0.28627452, 0.27450982],\n",
              "         [0.3529412 , 0.37254903, 0.39215687],\n",
              "         [0.24313726, 0.2784314 , 0.2901961 ],\n",
              "         ...,\n",
              "         [0.2901961 , 0.31764707, 0.27450982],\n",
              "         [0.20784314, 0.24313726, 0.21176471],\n",
              "         [0.24313726, 0.2901961 , 0.27058825]],\n",
              "\n",
              "        ...,\n",
              "\n",
              "        [[0.48235294, 0.5019608 , 0.3764706 ],\n",
              "         [0.5176471 , 0.5176471 , 0.4       ],\n",
              "         [0.5058824 , 0.5019608 , 0.39215687],\n",
              "         ...,\n",
              "         [0.42352942, 0.41960785, 0.34509805],\n",
              "         [0.24313726, 0.23529412, 0.21568628],\n",
              "         [0.10588235, 0.10588235, 0.10980392]],\n",
              "\n",
              "        [[0.4509804 , 0.4745098 , 0.35686275],\n",
              "         [0.48235294, 0.4862745 , 0.37254903],\n",
              "         [0.5058824 , 0.49411765, 0.3882353 ],\n",
              "         ...,\n",
              "         [0.4509804 , 0.45490196, 0.36862746],\n",
              "         [0.25882354, 0.25490198, 0.23137255],\n",
              "         [0.10588235, 0.10588235, 0.10588235]],\n",
              "\n",
              "        [[0.45490196, 0.47058824, 0.3529412 ],\n",
              "         [0.4745098 , 0.47843137, 0.36862746],\n",
              "         [0.5058824 , 0.5019608 , 0.39607844],\n",
              "         ...,\n",
              "         [0.45490196, 0.4509804 , 0.36862746],\n",
              "         [0.26666668, 0.25490198, 0.22745098],\n",
              "         [0.10588235, 0.10196079, 0.10196079]]]], dtype=float32)"
            ]
          },
          "metadata": {},
          "execution_count": 6
        }
      ]
    },
    {
      "cell_type": "code",
      "source": [
        "#test\n"
      ],
      "metadata": {
        "id": "7A6ellZSwMpP"
      },
      "execution_count": null,
      "outputs": []
    },
    {
      "cell_type": "code",
      "source": [
        "# Import to_categorical\n",
        "from tensorflow.keras.utils import to_categorical  # Import to_categorical"
      ],
      "metadata": {
        "id": "OnzadCLvf7Ig"
      },
      "execution_count": null,
      "outputs": []
    },
    {
      "cell_type": "code",
      "source": [
        "# One-hot encode the labels\n",
        "y_train = to_categorical(y_train, 10)\n",
        "y_test = to_categorical(y_test, 10)"
      ],
      "metadata": {
        "id": "nDKJMjRZff2C"
      },
      "execution_count": null,
      "outputs": []
    },
    {
      "cell_type": "markdown",
      "source": [
        "2. Model Architecture"
      ],
      "metadata": {
        "id": "DdFcoB3bhpQU"
      }
    },
    {
      "cell_type": "code",
      "source": [
        "from tensorflow.keras.models import Sequential\n",
        "from tensorflow.keras.layers import Conv2D, MaxPooling2D, Flatten, Dense, Dropout\n",
        "\n",
        "# Define the model\n",
        "model = Sequential()\n",
        "\n",
        "# Add convolutional layers and pooling layers\n",
        "model.add(Conv2D(32, (3, 3), activation='relu', input_shape=(32, 32, 3)))\n",
        "model.add(MaxPooling2D(pool_size=(2, 2)))\n",
        "\n",
        "model.add(Conv2D(64, (3, 3), activation='relu'))\n",
        "model.add(MaxPooling2D(pool_size=(2, 2)))\n",
        "\n",
        "model.add(Conv2D(128, (3, 3), activation='relu'))\n",
        "model.add(MaxPooling2D(pool_size=(2, 2)))\n",
        "\n",
        "# Flatten the output of the convolutional layers\n",
        "model.add(Flatten())\n",
        "\n",
        "# Add fully connected (dense) layers\n",
        "model.add(Dense(128, activation='relu'))\n",
        "model.add(Dropout(0.5))  # Dropout to avoid overfitting\n",
        "model.add(Dense(10, activation='softmax'))  # Output layer (10 classes)"
      ],
      "metadata": {
        "id": "-oPYAEodhtXH"
      },
      "execution_count": null,
      "outputs": []
    },
    {
      "cell_type": "code",
      "source": [
        "# Compile the model\n",
        "model.compile(\n",
        "    loss='categorical_crossentropy',\n",
        "    optimizer='adam',\n",
        "    metrics=['accuracy']\n",
        ")"
      ],
      "metadata": {
        "id": "RNbBaujhhtop"
      },
      "execution_count": null,
      "outputs": []
    },
    {
      "cell_type": "code",
      "source": [
        "# Display the model\n",
        "model.summary()"
      ],
      "metadata": {
        "id": "pKo1_8NqjhJi",
        "outputId": "158b04af-52fc-44b0-c955-6c0295d4dbc5",
        "colab": {
          "base_uri": "https://localhost:8080/",
          "height": 449
        }
      },
      "execution_count": null,
      "outputs": [
        {
          "output_type": "display_data",
          "data": {
            "text/plain": [
              "\u001b[1mModel: \"sequential_1\"\u001b[0m\n"
            ],
            "text/html": [
              "<pre style=\"white-space:pre;overflow-x:auto;line-height:normal;font-family:Menlo,'DejaVu Sans Mono',consolas,'Courier New',monospace\"><span style=\"font-weight: bold\">Model: \"sequential_1\"</span>\n",
              "</pre>\n"
            ]
          },
          "metadata": {}
        },
        {
          "output_type": "display_data",
          "data": {
            "text/plain": [
              "┏━━━━━━━━━━━━━━━━━━━━━━━━━━━━━━━━━━━━━━┳━━━━━━━━━━━━━━━━━━━━━━━━━━━━━┳━━━━━━━━━━━━━━━━━┓\n",
              "┃\u001b[1m \u001b[0m\u001b[1mLayer (type)                        \u001b[0m\u001b[1m \u001b[0m┃\u001b[1m \u001b[0m\u001b[1mOutput Shape               \u001b[0m\u001b[1m \u001b[0m┃\u001b[1m \u001b[0m\u001b[1m        Param #\u001b[0m\u001b[1m \u001b[0m┃\n",
              "┡━━━━━━━━━━━━━━━━━━━━━━━━━━━━━━━━━━━━━━╇━━━━━━━━━━━━━━━━━━━━━━━━━━━━━╇━━━━━━━━━━━━━━━━━┩\n",
              "│ conv2d_3 (\u001b[38;5;33mConv2D\u001b[0m)                    │ (\u001b[38;5;45mNone\u001b[0m, \u001b[38;5;34m30\u001b[0m, \u001b[38;5;34m30\u001b[0m, \u001b[38;5;34m32\u001b[0m)          │             \u001b[38;5;34m896\u001b[0m │\n",
              "├──────────────────────────────────────┼─────────────────────────────┼─────────────────┤\n",
              "│ max_pooling2d_3 (\u001b[38;5;33mMaxPooling2D\u001b[0m)       │ (\u001b[38;5;45mNone\u001b[0m, \u001b[38;5;34m15\u001b[0m, \u001b[38;5;34m15\u001b[0m, \u001b[38;5;34m32\u001b[0m)          │               \u001b[38;5;34m0\u001b[0m │\n",
              "├──────────────────────────────────────┼─────────────────────────────┼─────────────────┤\n",
              "│ conv2d_4 (\u001b[38;5;33mConv2D\u001b[0m)                    │ (\u001b[38;5;45mNone\u001b[0m, \u001b[38;5;34m13\u001b[0m, \u001b[38;5;34m13\u001b[0m, \u001b[38;5;34m64\u001b[0m)          │          \u001b[38;5;34m18,496\u001b[0m │\n",
              "├──────────────────────────────────────┼─────────────────────────────┼─────────────────┤\n",
              "│ max_pooling2d_4 (\u001b[38;5;33mMaxPooling2D\u001b[0m)       │ (\u001b[38;5;45mNone\u001b[0m, \u001b[38;5;34m6\u001b[0m, \u001b[38;5;34m6\u001b[0m, \u001b[38;5;34m64\u001b[0m)            │               \u001b[38;5;34m0\u001b[0m │\n",
              "├──────────────────────────────────────┼─────────────────────────────┼─────────────────┤\n",
              "│ conv2d_5 (\u001b[38;5;33mConv2D\u001b[0m)                    │ (\u001b[38;5;45mNone\u001b[0m, \u001b[38;5;34m4\u001b[0m, \u001b[38;5;34m4\u001b[0m, \u001b[38;5;34m128\u001b[0m)           │          \u001b[38;5;34m73,856\u001b[0m │\n",
              "├──────────────────────────────────────┼─────────────────────────────┼─────────────────┤\n",
              "│ max_pooling2d_5 (\u001b[38;5;33mMaxPooling2D\u001b[0m)       │ (\u001b[38;5;45mNone\u001b[0m, \u001b[38;5;34m2\u001b[0m, \u001b[38;5;34m2\u001b[0m, \u001b[38;5;34m128\u001b[0m)           │               \u001b[38;5;34m0\u001b[0m │\n",
              "├──────────────────────────────────────┼─────────────────────────────┼─────────────────┤\n",
              "│ flatten_1 (\u001b[38;5;33mFlatten\u001b[0m)                  │ (\u001b[38;5;45mNone\u001b[0m, \u001b[38;5;34m512\u001b[0m)                 │               \u001b[38;5;34m0\u001b[0m │\n",
              "├──────────────────────────────────────┼─────────────────────────────┼─────────────────┤\n",
              "│ dense_2 (\u001b[38;5;33mDense\u001b[0m)                      │ (\u001b[38;5;45mNone\u001b[0m, \u001b[38;5;34m128\u001b[0m)                 │          \u001b[38;5;34m65,664\u001b[0m │\n",
              "├──────────────────────────────────────┼─────────────────────────────┼─────────────────┤\n",
              "│ dropout_1 (\u001b[38;5;33mDropout\u001b[0m)                  │ (\u001b[38;5;45mNone\u001b[0m, \u001b[38;5;34m128\u001b[0m)                 │               \u001b[38;5;34m0\u001b[0m │\n",
              "├──────────────────────────────────────┼─────────────────────────────┼─────────────────┤\n",
              "│ dense_3 (\u001b[38;5;33mDense\u001b[0m)                      │ (\u001b[38;5;45mNone\u001b[0m, \u001b[38;5;34m10\u001b[0m)                  │           \u001b[38;5;34m1,290\u001b[0m │\n",
              "└──────────────────────────────────────┴─────────────────────────────┴─────────────────┘\n"
            ],
            "text/html": [
              "<pre style=\"white-space:pre;overflow-x:auto;line-height:normal;font-family:Menlo,'DejaVu Sans Mono',consolas,'Courier New',monospace\">┏━━━━━━━━━━━━━━━━━━━━━━━━━━━━━━━━━━━━━━┳━━━━━━━━━━━━━━━━━━━━━━━━━━━━━┳━━━━━━━━━━━━━━━━━┓\n",
              "┃<span style=\"font-weight: bold\"> Layer (type)                         </span>┃<span style=\"font-weight: bold\"> Output Shape                </span>┃<span style=\"font-weight: bold\">         Param # </span>┃\n",
              "┡━━━━━━━━━━━━━━━━━━━━━━━━━━━━━━━━━━━━━━╇━━━━━━━━━━━━━━━━━━━━━━━━━━━━━╇━━━━━━━━━━━━━━━━━┩\n",
              "│ conv2d_3 (<span style=\"color: #0087ff; text-decoration-color: #0087ff\">Conv2D</span>)                    │ (<span style=\"color: #00d7ff; text-decoration-color: #00d7ff\">None</span>, <span style=\"color: #00af00; text-decoration-color: #00af00\">30</span>, <span style=\"color: #00af00; text-decoration-color: #00af00\">30</span>, <span style=\"color: #00af00; text-decoration-color: #00af00\">32</span>)          │             <span style=\"color: #00af00; text-decoration-color: #00af00\">896</span> │\n",
              "├──────────────────────────────────────┼─────────────────────────────┼─────────────────┤\n",
              "│ max_pooling2d_3 (<span style=\"color: #0087ff; text-decoration-color: #0087ff\">MaxPooling2D</span>)       │ (<span style=\"color: #00d7ff; text-decoration-color: #00d7ff\">None</span>, <span style=\"color: #00af00; text-decoration-color: #00af00\">15</span>, <span style=\"color: #00af00; text-decoration-color: #00af00\">15</span>, <span style=\"color: #00af00; text-decoration-color: #00af00\">32</span>)          │               <span style=\"color: #00af00; text-decoration-color: #00af00\">0</span> │\n",
              "├──────────────────────────────────────┼─────────────────────────────┼─────────────────┤\n",
              "│ conv2d_4 (<span style=\"color: #0087ff; text-decoration-color: #0087ff\">Conv2D</span>)                    │ (<span style=\"color: #00d7ff; text-decoration-color: #00d7ff\">None</span>, <span style=\"color: #00af00; text-decoration-color: #00af00\">13</span>, <span style=\"color: #00af00; text-decoration-color: #00af00\">13</span>, <span style=\"color: #00af00; text-decoration-color: #00af00\">64</span>)          │          <span style=\"color: #00af00; text-decoration-color: #00af00\">18,496</span> │\n",
              "├──────────────────────────────────────┼─────────────────────────────┼─────────────────┤\n",
              "│ max_pooling2d_4 (<span style=\"color: #0087ff; text-decoration-color: #0087ff\">MaxPooling2D</span>)       │ (<span style=\"color: #00d7ff; text-decoration-color: #00d7ff\">None</span>, <span style=\"color: #00af00; text-decoration-color: #00af00\">6</span>, <span style=\"color: #00af00; text-decoration-color: #00af00\">6</span>, <span style=\"color: #00af00; text-decoration-color: #00af00\">64</span>)            │               <span style=\"color: #00af00; text-decoration-color: #00af00\">0</span> │\n",
              "├──────────────────────────────────────┼─────────────────────────────┼─────────────────┤\n",
              "│ conv2d_5 (<span style=\"color: #0087ff; text-decoration-color: #0087ff\">Conv2D</span>)                    │ (<span style=\"color: #00d7ff; text-decoration-color: #00d7ff\">None</span>, <span style=\"color: #00af00; text-decoration-color: #00af00\">4</span>, <span style=\"color: #00af00; text-decoration-color: #00af00\">4</span>, <span style=\"color: #00af00; text-decoration-color: #00af00\">128</span>)           │          <span style=\"color: #00af00; text-decoration-color: #00af00\">73,856</span> │\n",
              "├──────────────────────────────────────┼─────────────────────────────┼─────────────────┤\n",
              "│ max_pooling2d_5 (<span style=\"color: #0087ff; text-decoration-color: #0087ff\">MaxPooling2D</span>)       │ (<span style=\"color: #00d7ff; text-decoration-color: #00d7ff\">None</span>, <span style=\"color: #00af00; text-decoration-color: #00af00\">2</span>, <span style=\"color: #00af00; text-decoration-color: #00af00\">2</span>, <span style=\"color: #00af00; text-decoration-color: #00af00\">128</span>)           │               <span style=\"color: #00af00; text-decoration-color: #00af00\">0</span> │\n",
              "├──────────────────────────────────────┼─────────────────────────────┼─────────────────┤\n",
              "│ flatten_1 (<span style=\"color: #0087ff; text-decoration-color: #0087ff\">Flatten</span>)                  │ (<span style=\"color: #00d7ff; text-decoration-color: #00d7ff\">None</span>, <span style=\"color: #00af00; text-decoration-color: #00af00\">512</span>)                 │               <span style=\"color: #00af00; text-decoration-color: #00af00\">0</span> │\n",
              "├──────────────────────────────────────┼─────────────────────────────┼─────────────────┤\n",
              "│ dense_2 (<span style=\"color: #0087ff; text-decoration-color: #0087ff\">Dense</span>)                      │ (<span style=\"color: #00d7ff; text-decoration-color: #00d7ff\">None</span>, <span style=\"color: #00af00; text-decoration-color: #00af00\">128</span>)                 │          <span style=\"color: #00af00; text-decoration-color: #00af00\">65,664</span> │\n",
              "├──────────────────────────────────────┼─────────────────────────────┼─────────────────┤\n",
              "│ dropout_1 (<span style=\"color: #0087ff; text-decoration-color: #0087ff\">Dropout</span>)                  │ (<span style=\"color: #00d7ff; text-decoration-color: #00d7ff\">None</span>, <span style=\"color: #00af00; text-decoration-color: #00af00\">128</span>)                 │               <span style=\"color: #00af00; text-decoration-color: #00af00\">0</span> │\n",
              "├──────────────────────────────────────┼─────────────────────────────┼─────────────────┤\n",
              "│ dense_3 (<span style=\"color: #0087ff; text-decoration-color: #0087ff\">Dense</span>)                      │ (<span style=\"color: #00d7ff; text-decoration-color: #00d7ff\">None</span>, <span style=\"color: #00af00; text-decoration-color: #00af00\">10</span>)                  │           <span style=\"color: #00af00; text-decoration-color: #00af00\">1,290</span> │\n",
              "└──────────────────────────────────────┴─────────────────────────────┴─────────────────┘\n",
              "</pre>\n"
            ]
          },
          "metadata": {}
        },
        {
          "output_type": "display_data",
          "data": {
            "text/plain": [
              "\u001b[1m Total params: \u001b[0m\u001b[38;5;34m160,202\u001b[0m (625.79 KB)\n"
            ],
            "text/html": [
              "<pre style=\"white-space:pre;overflow-x:auto;line-height:normal;font-family:Menlo,'DejaVu Sans Mono',consolas,'Courier New',monospace\"><span style=\"font-weight: bold\"> Total params: </span><span style=\"color: #00af00; text-decoration-color: #00af00\">160,202</span> (625.79 KB)\n",
              "</pre>\n"
            ]
          },
          "metadata": {}
        },
        {
          "output_type": "display_data",
          "data": {
            "text/plain": [
              "\u001b[1m Trainable params: \u001b[0m\u001b[38;5;34m160,202\u001b[0m (625.79 KB)\n"
            ],
            "text/html": [
              "<pre style=\"white-space:pre;overflow-x:auto;line-height:normal;font-family:Menlo,'DejaVu Sans Mono',consolas,'Courier New',monospace\"><span style=\"font-weight: bold\"> Trainable params: </span><span style=\"color: #00af00; text-decoration-color: #00af00\">160,202</span> (625.79 KB)\n",
              "</pre>\n"
            ]
          },
          "metadata": {}
        },
        {
          "output_type": "display_data",
          "data": {
            "text/plain": [
              "\u001b[1m Non-trainable params: \u001b[0m\u001b[38;5;34m0\u001b[0m (0.00 B)\n"
            ],
            "text/html": [
              "<pre style=\"white-space:pre;overflow-x:auto;line-height:normal;font-family:Menlo,'DejaVu Sans Mono',consolas,'Courier New',monospace\"><span style=\"font-weight: bold\"> Non-trainable params: </span><span style=\"color: #00af00; text-decoration-color: #00af00\">0</span> (0.00 B)\n",
              "</pre>\n"
            ]
          },
          "metadata": {}
        }
      ]
    },
    {
      "cell_type": "markdown",
      "source": [
        "3. Model Training"
      ],
      "metadata": {
        "id": "T2lyK7tKXwgG"
      }
    },
    {
      "cell_type": "code",
      "source": [
        "from tensorflow.keras.callbacks import EarlyStopping\n",
        "\n",
        "# Early stopping to prevent overfitting\n",
        "early_stopping = EarlyStopping(monitor='val_loss', patience=5, restore_best_weights=True)\n",
        "\n",
        "# Train the model\n",
        "history = model.fit(X_train, y_train, epochs=50,\n",
        "                    validation_data=(X_test, y_test),\n",
        "                    callbacks=[early_stopping])\n",
        "\n"
      ],
      "metadata": {
        "colab": {
          "base_uri": "https://localhost:8080/"
        },
        "id": "SH8-QCP2X11t",
        "outputId": "8ea60450-4fde-4860-f56c-12c81d88f3e7"
      },
      "execution_count": null,
      "outputs": [
        {
          "output_type": "stream",
          "name": "stdout",
          "text": [
            "Epoch 1/50\n",
            "\u001b[1m1563/1563\u001b[0m \u001b[32m━━━━━━━━━━━━━━━━━━━━\u001b[0m\u001b[37m\u001b[0m \u001b[1m72s\u001b[0m 45ms/step - accuracy: 0.2966 - loss: 1.8708 - val_accuracy: 0.5374 - val_loss: 1.2878\n",
            "Epoch 2/50\n",
            "\u001b[1m1563/1563\u001b[0m \u001b[32m━━━━━━━━━━━━━━━━━━━━\u001b[0m\u001b[37m\u001b[0m \u001b[1m84s\u001b[0m 46ms/step - accuracy: 0.5303 - loss: 1.3089 - val_accuracy: 0.5926 - val_loss: 1.1466\n",
            "Epoch 3/50\n",
            "\u001b[1m1563/1563\u001b[0m \u001b[32m━━━━━━━━━━━━━━━━━━━━\u001b[0m\u001b[37m\u001b[0m \u001b[1m79s\u001b[0m 45ms/step - accuracy: 0.6022 - loss: 1.1270 - val_accuracy: 0.6349 - val_loss: 1.0219\n",
            "Epoch 4/50\n",
            "\u001b[1m1563/1563\u001b[0m \u001b[32m━━━━━━━━━━━━━━━━━━━━\u001b[0m\u001b[37m\u001b[0m \u001b[1m70s\u001b[0m 45ms/step - accuracy: 0.6486 - loss: 0.9991 - val_accuracy: 0.6590 - val_loss: 0.9735\n",
            "Epoch 5/50\n",
            "\u001b[1m1563/1563\u001b[0m \u001b[32m━━━━━━━━━━━━━━━━━━━━\u001b[0m\u001b[37m\u001b[0m \u001b[1m72s\u001b[0m 46ms/step - accuracy: 0.6836 - loss: 0.9092 - val_accuracy: 0.6728 - val_loss: 0.9542\n",
            "Epoch 6/50\n",
            "\u001b[1m1563/1563\u001b[0m \u001b[32m━━━━━━━━━━━━━━━━━━━━\u001b[0m\u001b[37m\u001b[0m \u001b[1m79s\u001b[0m 45ms/step - accuracy: 0.7056 - loss: 0.8522 - val_accuracy: 0.6919 - val_loss: 0.8814\n",
            "Epoch 7/50\n",
            "\u001b[1m1563/1563\u001b[0m \u001b[32m━━━━━━━━━━━━━━━━━━━━\u001b[0m\u001b[37m\u001b[0m \u001b[1m71s\u001b[0m 45ms/step - accuracy: 0.7174 - loss: 0.8052 - val_accuracy: 0.7148 - val_loss: 0.8313\n",
            "Epoch 8/50\n",
            "\u001b[1m1563/1563\u001b[0m \u001b[32m━━━━━━━━━━━━━━━━━━━━\u001b[0m\u001b[37m\u001b[0m \u001b[1m70s\u001b[0m 45ms/step - accuracy: 0.7363 - loss: 0.7483 - val_accuracy: 0.7105 - val_loss: 0.8448\n",
            "Epoch 9/50\n",
            "\u001b[1m1563/1563\u001b[0m \u001b[32m━━━━━━━━━━━━━━━━━━━━\u001b[0m\u001b[37m\u001b[0m \u001b[1m83s\u001b[0m 45ms/step - accuracy: 0.7525 - loss: 0.7133 - val_accuracy: 0.7077 - val_loss: 0.8725\n",
            "Epoch 10/50\n",
            "\u001b[1m1563/1563\u001b[0m \u001b[32m━━━━━━━━━━━━━━━━━━━━\u001b[0m\u001b[37m\u001b[0m \u001b[1m70s\u001b[0m 45ms/step - accuracy: 0.7614 - loss: 0.6717 - val_accuracy: 0.7074 - val_loss: 0.8816\n",
            "Epoch 11/50\n",
            "\u001b[1m1563/1563\u001b[0m \u001b[32m━━━━━━━━━━━━━━━━━━━━\u001b[0m\u001b[37m\u001b[0m \u001b[1m69s\u001b[0m 44ms/step - accuracy: 0.7751 - loss: 0.6327 - val_accuracy: 0.7216 - val_loss: 0.8497\n",
            "Epoch 12/50\n",
            "\u001b[1m1563/1563\u001b[0m \u001b[32m━━━━━━━━━━━━━━━━━━━━\u001b[0m\u001b[37m\u001b[0m \u001b[1m82s\u001b[0m 44ms/step - accuracy: 0.7847 - loss: 0.6077 - val_accuracy: 0.7202 - val_loss: 0.8420\n"
          ]
        }
      ]
    },
    {
      "cell_type": "markdown",
      "source": [
        "\n",
        "  4. Model Evaluation\n",
        "\n"
      ],
      "metadata": {
        "id": "AFiAj7Exr0Ut"
      }
    },
    {
      "cell_type": "code",
      "source": [
        "# Evaluate the model on the validation set\n",
        "val_loss, val_accuracy = model.evaluate(x_val, y_val)\n",
        "print(f'Validation Loss: {val_loss}')\n",
        "print(f'Validation Accuracy: {val_accuracy}')\n"
      ],
      "metadata": {
        "id": "eRhHgBtdr_Ke"
      },
      "execution_count": null,
      "outputs": []
    },
    {
      "cell_type": "code",
      "source": [
        "from sklearn.metrics import classification_report\n",
        "\n",
        "# Predict the labels on the validation set\n",
        "y_pred = model.predict(x_val)\n",
        "y_pred_classes = y_pred.argmax(axis=1)  # Get the predicted class indices\n",
        "y_true = y_val.argmax(axis=1)  # Get the true class indices if one-hot encoded\n",
        "\n",
        "# Print the classification report\n",
        "print(classification_report(y_true, y_pred_classes))\n"
      ],
      "metadata": {
        "id": "GLdThGc3sGPF"
      },
      "execution_count": null,
      "outputs": []
    },
    {
      "cell_type": "code",
      "source": [
        "from sklearn.metrics import confusion_matrix\n",
        "import seaborn as sns\n",
        "import matplotlib.pyplot as plt\n",
        "\n",
        "# Generate the confusion matrix\n",
        "cm = confusion_matrix(y_true, y_pred_classes)\n",
        "\n",
        "# Plot the confusion matrix\n",
        "plt.figure(figsize=(10, 8))\n",
        "sns.heatmap(cm, annot=True, fmt='d', cmap='Blues', xticklabels=class_names, yticklabels=class_names)\n",
        "plt.xlabel('Predicted')\n",
        "plt.ylabel('True')\n",
        "plt.title('Confusion Matrix')\n",
        "plt.show()\n"
      ],
      "metadata": {
        "id": "ql3wRRdMsGvZ"
      },
      "execution_count": null,
      "outputs": []
    }
  ]
}