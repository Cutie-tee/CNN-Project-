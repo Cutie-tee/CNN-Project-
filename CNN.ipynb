{
  "nbformat": 4,
  "nbformat_minor": 0,
  "metadata": {
    "colab": {
      "provenance": [],
      "include_colab_link": true
    },
    "kernelspec": {
      "name": "python3",
      "display_name": "Python 3"
    },
    "language_info": {
      "name": "python"
    }
  },
  "cells": [
    {
      "cell_type": "markdown",
      "metadata": {
        "id": "view-in-github",
        "colab_type": "text"
      },
      "source": [
        "<a href=\"https://colab.research.google.com/github/Marvin2798/CNN-Project-/blob/main/CNN.ipynb\" target=\"_parent\"><img src=\"https://colab.research.google.com/assets/colab-badge.svg\" alt=\"Open In Colab\"/></a>"
      ]
    },
    {
      "cell_type": "markdown",
      "source": [
        "Project Link : https://github.com/ironhack-labs/project-1-deep-learning-image-classification-with-cnn/blob/main/README.md#project-i--deep-learning-image-classification-with-cnn"
      ],
      "metadata": {
        "id": "F4PQLGbXXIdF"
      }
    },
    {
      "cell_type": "markdown",
      "source": [
        "Loading and Data Processing"
      ],
      "metadata": {
        "id": "4YqKMWISg2Nx"
      }
    },
    {
      "cell_type": "code",
      "execution_count": null,
      "metadata": {
        "id": "9VcsPJmFXHxa",
        "outputId": "9aaaac44-db01-409e-c0db-18ce3934caf4",
        "colab": {
          "base_uri": "https://localhost:8080/"
        }
      },
      "outputs": [
        {
          "output_type": "stream",
          "name": "stdout",
          "text": [
            "Downloading data from https://www.cs.toronto.edu/~kriz/cifar-10-python.tar.gz\n",
            "\u001b[1m170498071/170498071\u001b[0m \u001b[32m━━━━━━━━━━━━━━━━━━━━\u001b[0m\u001b[37m\u001b[0m \u001b[1m6s\u001b[0m 0us/step\n"
          ]
        }
      ],
      "source": [
        "from tensorflow.keras.datasets import cifar10\n",
        "#loading the dataset since we can access it through keras\n",
        "(X_train, y_train), (X_test, y_test) = cifar10.load_data()"
      ]
    },
    {
      "cell_type": "code",
      "source": [
        "#normalise the pixel values to 0 and 1 by dividing by 255\n",
        "X_train = X_train.astype('float32') / 255.0\n",
        "X_test = X_test.astype('float32') / 255.0\n",
        "X_train\n",
        "X_test\n"
      ],
      "metadata": {
        "id": "k_XV2ERsv-NN",
        "colab": {
          "base_uri": "https://localhost:8080/"
        },
        "outputId": "f252810e-b0c0-49d0-b2d2-77e2947905cc"
      },
      "execution_count": null,
      "outputs": [
        {
          "output_type": "execute_result",
          "data": {
            "text/plain": [
              "array([[[[9.52876417e-06, 6.75456658e-06, 2.95512291e-06],\n",
              "         [9.58907276e-06, 6.69425799e-06, 2.83450549e-06],\n",
              "         [9.95092432e-06, 6.99580096e-06, 3.07574010e-06],\n",
              "         ...,\n",
              "         [8.26228279e-06, 5.72931958e-06, 2.17111074e-06],\n",
              "         [7.59888735e-06, 5.48808521e-06, 2.17111074e-06],\n",
              "         [6.99580096e-06, 5.12623365e-06, 1.99018496e-06]],\n",
              "\n",
              "        [[9.16691260e-06, 6.75456658e-06, 3.07574010e-06],\n",
              "         [9.10660401e-06, 6.63394940e-06, 2.41234534e-06],\n",
              "         [9.58907276e-06, 6.87518377e-06, 2.71388831e-06],\n",
              "         ...,\n",
              "         [8.20197420e-06, 5.72931958e-06, 1.86956754e-06],\n",
              "         [7.53857876e-06, 5.48808521e-06, 1.92987636e-06],\n",
              "         [7.17672719e-06, 5.30715943e-06, 2.05049355e-06]],\n",
              "\n",
              "        [[9.10660401e-06, 6.63394940e-06, 2.83450549e-06],\n",
              "         [9.10660401e-06, 6.57364080e-06, 1.99018496e-06],\n",
              "         [9.52876417e-06, 6.69425799e-06, 2.17111074e-06],\n",
              "         ...,\n",
              "         [8.38289998e-06, 5.91024582e-06, 2.05049355e-06],\n",
              "         [7.84012263e-06, 5.72931958e-06, 2.05049355e-06],\n",
              "         [7.23703579e-06, 5.36746802e-06, 1.99018496e-06]],\n",
              "\n",
              "        ...,\n",
              "\n",
              "        [[4.10098710e-06, 7.47827016e-06, 1.06746274e-05],\n",
              "         [2.53296253e-06, 6.03086301e-06, 8.92567732e-06],\n",
              "         [1.86956754e-06, 5.30715943e-06, 8.26228279e-06],\n",
              "         ...,\n",
              "         [2.29172815e-06, 5.84993722e-06, 8.80506013e-06],\n",
              "         [7.84012173e-07, 3.85975272e-06, 6.51333221e-06],\n",
              "         [2.41234534e-06, 5.12623365e-06, 7.65919594e-06]],\n",
              "\n",
              "        [[3.67882649e-06, 6.99580096e-06, 1.01318501e-05],\n",
              "         [2.95512291e-06, 6.15148019e-06, 8.92567732e-06],\n",
              "         [2.11080214e-06, 5.12623365e-06, 7.96073982e-06],\n",
              "         ...,\n",
              "         [1.56802435e-06, 4.94530786e-06, 7.84012263e-06],\n",
              "         [1.74895024e-06, 4.94530786e-06, 7.59888735e-06],\n",
              "         [1.20617267e-06, 3.85975272e-06, 6.45302362e-06]],\n",
              "\n",
              "        [[3.25666610e-06, 6.45302362e-06, 9.64938135e-06],\n",
              "         [3.37728329e-06, 6.33240597e-06, 8.98598682e-06],\n",
              "         [2.71388831e-06, 5.36746802e-06, 7.96073982e-06],\n",
              "         ...,\n",
              "         [1.44740716e-06, 4.64376490e-06, 7.47827016e-06],\n",
              "         [2.05049355e-06, 5.06592505e-06, 7.77981404e-06],\n",
              "         [1.26648126e-06, 4.04067850e-06, 6.63394940e-06]]],\n",
              "\n",
              "\n",
              "       [[[1.41725286e-05, 1.41725286e-05, 1.41725286e-05],\n",
              "         [1.39312933e-05, 1.39312933e-05, 1.39312933e-05],\n",
              "         [1.39916019e-05, 1.39916019e-05, 1.39916019e-05],\n",
              "         ...,\n",
              "         [1.40519105e-05, 1.40519105e-05, 1.40519105e-05],\n",
              "         [1.40519105e-05, 1.40519105e-05, 1.40519105e-05],\n",
              "         [1.39916019e-05, 1.39916019e-05, 1.39916019e-05]],\n",
              "\n",
              "        [[1.43534544e-05, 1.43534544e-05, 1.43534544e-05],\n",
              "         [1.41725286e-05, 1.41725286e-05, 1.41725286e-05],\n",
              "         [1.41725286e-05, 1.41725286e-05, 1.41725286e-05],\n",
              "         ...,\n",
              "         [1.42328372e-05, 1.42328372e-05, 1.42328372e-05],\n",
              "         [1.42328372e-05, 1.42328372e-05, 1.42328372e-05],\n",
              "         [1.41725286e-05, 1.41725286e-05, 1.41725286e-05]],\n",
              "\n",
              "        [[1.42931458e-05, 1.42931458e-05, 1.42931458e-05],\n",
              "         [1.41122200e-05, 1.41122200e-05, 1.41122200e-05],\n",
              "         [1.41122200e-05, 1.41122200e-05, 1.41122200e-05],\n",
              "         ...,\n",
              "         [1.41725286e-05, 1.41725286e-05, 1.41725286e-05],\n",
              "         [1.41725286e-05, 1.41725286e-05, 1.41725286e-05],\n",
              "         [1.41122200e-05, 1.41122200e-05, 1.41122200e-05]],\n",
              "\n",
              "        ...,\n",
              "\n",
              "        [[5.24685083e-06, 5.97055441e-06, 5.36746802e-06],\n",
              "         [2.59327112e-06, 3.07574010e-06, 2.23141933e-06],\n",
              "         [1.14586408e-06, 1.38709845e-06, 6.63394928e-07],\n",
              "         ...,\n",
              "         [1.01921587e-05, 1.10967876e-05, 1.07952446e-05],\n",
              "         [1.09761704e-05, 1.18808002e-05, 1.16395659e-05],\n",
              "         [1.13380220e-05, 1.21823432e-05, 1.21220346e-05]],\n",
              "\n",
              "        [[4.94530786e-06, 5.78962863e-06, 4.94530786e-06],\n",
              "         [2.77419690e-06, 3.43759189e-06, 2.17111074e-06],\n",
              "         [2.17111074e-06, 2.65357971e-06, 1.32678986e-06],\n",
              "         ...,\n",
              "         [1.04937017e-05, 1.13983306e-05, 1.10364790e-05],\n",
              "         [1.11570962e-05, 1.20617260e-05, 1.18204916e-05],\n",
              "         [1.12777134e-05, 1.21823432e-05, 1.20617260e-05]],\n",
              "\n",
              "        [[5.12623365e-06, 6.09117160e-06, 5.00561646e-06],\n",
              "         [3.73913508e-06, 4.52314771e-06, 2.89481432e-06],\n",
              "         [3.49790048e-06, 4.04067850e-06, 2.29172815e-06],\n",
              "         ...,\n",
              "         [1.01318501e-05, 1.10364790e-05, 1.07349360e-05],\n",
              "         [1.08555532e-05, 1.17601830e-05, 1.15189487e-05],\n",
              "         [1.12174048e-05, 1.20617260e-05, 1.20014174e-05]]],\n",
              "\n",
              "\n",
              "       [[[9.52876417e-06, 1.14586392e-05, 1.33885160e-05],\n",
              "         [9.52876417e-06, 1.12777134e-05, 1.31472816e-05],\n",
              "         [8.38289998e-06, 1.00112329e-05, 1.16998744e-05],\n",
              "         ...,\n",
              "         [1.37503675e-05, 1.39312933e-05, 1.41122200e-05],\n",
              "         [1.42931458e-05, 1.44137630e-05, 1.46549974e-05],\n",
              "         [1.43534544e-05, 1.45343802e-05, 1.48359231e-05]],\n",
              "\n",
              "        [[1.02524673e-05, 1.20617260e-05, 1.38106761e-05],\n",
              "         [1.03730845e-05, 1.20014174e-05, 1.36297504e-05],\n",
              "         [9.10660401e-06, 1.06143189e-05, 1.21220346e-05],\n",
              "         ...,\n",
              "         [1.39916019e-05, 1.39916019e-05, 1.42328372e-05],\n",
              "         [1.48359231e-05, 1.48359231e-05, 1.50771575e-05],\n",
              "         [1.48359231e-05, 1.48962317e-05, 1.51374661e-05]],\n",
              "\n",
              "        [[1.04937017e-05, 1.21220346e-05, 1.35694418e-05],\n",
              "         [1.06143189e-05, 1.20617260e-05, 1.33885160e-05],\n",
              "         [9.46845557e-06, 1.07952446e-05, 1.20014174e-05],\n",
              "         ...,\n",
              "         [1.38709847e-05, 1.38106761e-05, 1.39916019e-05],\n",
              "         [1.50771575e-05, 1.50168489e-05, 1.51374661e-05],\n",
              "         [1.47756145e-05, 1.47153060e-05, 1.48962317e-05]],\n",
              "\n",
              "        ...,\n",
              "\n",
              "        [[1.86956754e-06, 2.41234534e-06, 2.71388831e-06],\n",
              "         [1.80925895e-06, 2.35203674e-06, 2.65357971e-06],\n",
              "         [1.56802435e-06, 2.11080214e-06, 2.41234534e-06],\n",
              "         ...,\n",
              "         [2.23141933e-06, 2.41234534e-06, 2.77419690e-06],\n",
              "         [5.42777684e-07, 7.84012173e-07, 8.44320823e-07],\n",
              "         [2.41234545e-07, 4.22160412e-07, 3.01543167e-07]],\n",
              "\n",
              "        [[1.38709845e-06, 2.05049355e-06, 2.35203674e-06],\n",
              "         [1.62833305e-06, 2.29172815e-06, 2.59327112e-06],\n",
              "         [1.50771575e-06, 2.17111074e-06, 2.47265393e-06],\n",
              "         ...,\n",
              "         [1.14586408e-06, 1.20617267e-06, 1.44740716e-06],\n",
              "         [2.41234545e-07, 3.61851789e-07, 1.80925895e-07],\n",
              "         [3.01543167e-07, 4.22160412e-07, 1.80925895e-07]],\n",
              "\n",
              "        [[1.68864165e-06, 2.47265393e-06, 2.83450549e-06],\n",
              "         [1.80925895e-06, 2.59327112e-06, 3.01543150e-06],\n",
              "         [1.92987636e-06, 2.71388831e-06, 3.13604869e-06],\n",
              "         ...,\n",
              "         [3.01543167e-07, 3.61851789e-07, 4.82469090e-07],\n",
              "         [2.41234545e-07, 3.01543167e-07, 1.80925895e-07],\n",
              "         [4.22160412e-07, 4.82469090e-07, 4.22160412e-07]]],\n",
              "\n",
              "\n",
              "       ...,\n",
              "\n",
              "\n",
              "       [[[1.20617267e-06, 9.04629474e-07, 7.23703579e-07],\n",
              "         [1.14586408e-06, 8.44320823e-07, 6.63394928e-07],\n",
              "         [9.04629474e-07, 8.44320823e-07, 6.63394928e-07],\n",
              "         ...,\n",
              "         [6.03086335e-07, 5.42777684e-07, 4.22160412e-07],\n",
              "         [7.23703579e-07, 6.63394928e-07, 5.42777684e-07],\n",
              "         [7.84012173e-07, 7.23703579e-07, 6.03086335e-07]],\n",
              "\n",
              "        [[1.26648126e-06, 9.64938181e-07, 7.84012173e-07],\n",
              "         [1.20617267e-06, 9.64938181e-07, 7.84012173e-07],\n",
              "         [1.08555537e-06, 1.02524677e-06, 7.23703579e-07],\n",
              "         ...,\n",
              "         [6.03086335e-07, 5.42777684e-07, 4.22160412e-07],\n",
              "         [6.03086335e-07, 5.42777684e-07, 4.22160412e-07],\n",
              "         [7.23703579e-07, 6.63394928e-07, 5.42777684e-07]],\n",
              "\n",
              "        [[1.26648126e-06, 9.64938181e-07, 7.84012173e-07],\n",
              "         [1.26648126e-06, 1.02524677e-06, 7.23703579e-07],\n",
              "         [1.20617267e-06, 1.08555537e-06, 6.63394928e-07],\n",
              "         ...,\n",
              "         [7.23703579e-07, 6.63394928e-07, 5.42777684e-07],\n",
              "         [7.23703579e-07, 6.63394928e-07, 5.42777684e-07],\n",
              "         [7.84012173e-07, 7.23703579e-07, 6.03086335e-07]],\n",
              "\n",
              "        ...,\n",
              "\n",
              "        [[1.99018496e-06, 1.50771575e-06, 7.84012173e-07],\n",
              "         [2.05049355e-06, 1.56802435e-06, 9.04629474e-07],\n",
              "         [2.05049355e-06, 1.56802435e-06, 9.04629474e-07],\n",
              "         ...,\n",
              "         [1.68864165e-06, 1.50771575e-06, 3.13604869e-06],\n",
              "         [1.74895024e-06, 1.50771575e-06, 3.49790048e-06],\n",
              "         [1.38709845e-06, 1.20617267e-06, 2.53296253e-06]],\n",
              "\n",
              "        [[1.99018496e-06, 1.50771575e-06, 8.44320823e-07],\n",
              "         [2.05049355e-06, 1.56802435e-06, 9.04629474e-07],\n",
              "         [2.05049355e-06, 1.56802435e-06, 9.04629474e-07],\n",
              "         ...,\n",
              "         [1.62833305e-06, 1.44740716e-06, 3.13604869e-06],\n",
              "         [1.62833305e-06, 1.44740716e-06, 3.37728329e-06],\n",
              "         [1.50771575e-06, 1.32678986e-06, 2.83450549e-06]],\n",
              "\n",
              "        [[1.86956754e-06, 1.38709845e-06, 7.23703579e-07],\n",
              "         [1.92987636e-06, 1.44740716e-06, 7.84012173e-07],\n",
              "         [1.99018496e-06, 1.50771575e-06, 8.44320823e-07],\n",
              "         ...,\n",
              "         [1.44740716e-06, 1.38709845e-06, 3.01543150e-06],\n",
              "         [1.56802435e-06, 1.38709845e-06, 3.19635728e-06],\n",
              "         [1.50771575e-06, 1.20617267e-06, 2.83450549e-06]]],\n",
              "\n",
              "\n",
              "       [[[1.50771575e-06, 2.41234534e-06, 7.23703579e-07],\n",
              "         [9.04629474e-07, 2.17111074e-06, 1.80925895e-07],\n",
              "         [1.38709845e-06, 2.47265393e-06, 1.08555537e-06],\n",
              "         ...,\n",
              "         [3.67882649e-06, 4.94530786e-06, 4.70407349e-06],\n",
              "         [5.54839380e-06, 6.81487518e-06, 6.75456658e-06],\n",
              "         [4.52314771e-06, 5.36746802e-06, 5.54839380e-06]],\n",
              "\n",
              "        [[7.23703579e-07, 1.50771575e-06, 3.61851789e-07],\n",
              "         [1.20617267e-06, 2.23141933e-06, 4.22160412e-07],\n",
              "         [1.44740716e-06, 2.17111074e-06, 9.04629474e-07],\n",
              "         ...,\n",
              "         [6.93549237e-06, 8.08135701e-06, 8.32259138e-06],\n",
              "         [8.98598682e-06, 1.01318501e-05, 1.06746274e-05],\n",
              "         [6.27209738e-06, 7.05611001e-06, 7.90043123e-06]],\n",
              "\n",
              "        [[7.23703579e-07, 1.50771575e-06, 6.63394928e-07],\n",
              "         [9.04629474e-07, 1.74895024e-06, 3.61851789e-07],\n",
              "         [2.05049355e-06, 2.41234534e-06, 1.44740716e-06],\n",
              "         ...,\n",
              "         [9.28752979e-06, 1.03730845e-05, 1.09761704e-05],\n",
              "         [9.46845557e-06, 1.05540103e-05, 1.15792573e-05],\n",
              "         [6.99580096e-06, 7.77981404e-06, 9.10660401e-06]],\n",
              "\n",
              "        ...,\n",
              "\n",
              "        [[6.03086301e-06, 7.77981404e-06, 4.88499927e-06],\n",
              "         [6.21178879e-06, 7.96073982e-06, 5.06592505e-06],\n",
              "         [6.27209738e-06, 8.08135701e-06, 5.18654224e-06],\n",
              "         ...,\n",
              "         [5.84993722e-06, 7.71950545e-06, 5.06592505e-06],\n",
              "         [5.91024582e-06, 7.59888735e-06, 5.06592505e-06],\n",
              "         [5.48808521e-06, 7.29734438e-06, 4.76438208e-06]],\n",
              "\n",
              "        [[6.21178879e-06, 7.96073982e-06, 5.00561646e-06],\n",
              "         [6.27209738e-06, 7.90043123e-06, 5.00561646e-06],\n",
              "         [6.45302362e-06, 8.14166560e-06, 5.24685083e-06],\n",
              "         ...,\n",
              "         [6.09117160e-06, 7.96073982e-06, 5.24685083e-06],\n",
              "         [5.97055441e-06, 7.65919594e-06, 5.06592505e-06],\n",
              "         [5.54839380e-06, 7.29734438e-06, 4.76438208e-06]],\n",
              "\n",
              "        [[5.72931958e-06, 7.59888735e-06, 4.70407349e-06],\n",
              "         [5.72931958e-06, 7.41796157e-06, 4.58345630e-06],\n",
              "         [6.09117160e-06, 7.71950545e-06, 4.88499927e-06],\n",
              "         ...,\n",
              "         [5.60870239e-06, 7.47827016e-06, 4.82469068e-06],\n",
              "         [5.72931958e-06, 7.41796157e-06, 4.88499927e-06],\n",
              "         [5.54839380e-06, 7.23703579e-06, 4.82469068e-06]]],\n",
              "\n",
              "\n",
              "       [[[4.40253007e-06, 4.70407349e-06, 4.52314771e-06],\n",
              "         [5.91024582e-06, 6.21178879e-06, 6.81487518e-06],\n",
              "         [5.97055441e-06, 6.39271457e-06, 6.87518377e-06],\n",
              "         ...,\n",
              "         [8.14166560e-06, 9.04629542e-06, 9.16691260e-06],\n",
              "         [8.14166560e-06, 8.98598682e-06, 9.28752979e-06],\n",
              "         [1.22426518e-05, 1.29663558e-05, 1.34488246e-05]],\n",
              "\n",
              "        [[4.16129569e-06, 4.40253007e-06, 4.22160429e-06],\n",
              "         [5.06592505e-06, 5.36746802e-06, 5.84993722e-06],\n",
              "         [4.10098710e-06, 4.52314771e-06, 4.88499927e-06],\n",
              "         ...,\n",
              "         [5.12623365e-06, 5.72931958e-06, 5.36746802e-06],\n",
              "         [4.28191288e-06, 4.94530786e-06, 4.82469068e-06],\n",
              "         [7.23703579e-06, 8.02104842e-06, 8.14166560e-06]],\n",
              "\n",
              "        [[4.16129569e-06, 4.40253007e-06, 4.22160429e-06],\n",
              "         [5.42777661e-06, 5.72931958e-06, 6.03086301e-06],\n",
              "         [3.73913508e-06, 4.28191288e-06, 4.46283866e-06],\n",
              "         ...,\n",
              "         [4.46283866e-06, 4.88499927e-06, 4.22160429e-06],\n",
              "         [3.19635728e-06, 3.73913508e-06, 3.25666610e-06],\n",
              "         [3.73913508e-06, 4.46283866e-06, 4.16129569e-06]],\n",
              "\n",
              "        ...,\n",
              "\n",
              "        [[7.41796157e-06, 7.71950545e-06, 5.78962863e-06],\n",
              "         [7.96073982e-06, 7.96073982e-06, 6.15148019e-06],\n",
              "         [7.77981404e-06, 7.71950545e-06, 6.03086301e-06],\n",
              "         ...,\n",
              "         [6.51333221e-06, 6.45302362e-06, 5.30715943e-06],\n",
              "         [3.73913508e-06, 3.61851789e-06, 3.31697470e-06],\n",
              "         [1.62833305e-06, 1.62833305e-06, 1.68864165e-06]],\n",
              "\n",
              "        [[6.93549237e-06, 7.29734438e-06, 5.48808521e-06],\n",
              "         [7.41796157e-06, 7.47827016e-06, 5.72931958e-06],\n",
              "         [7.77981404e-06, 7.59888735e-06, 5.97055441e-06],\n",
              "         ...,\n",
              "         [6.93549237e-06, 6.99580096e-06, 5.66901099e-06],\n",
              "         [3.98036991e-06, 3.92006132e-06, 3.55820930e-06],\n",
              "         [1.62833305e-06, 1.62833305e-06, 1.62833305e-06]],\n",
              "\n",
              "        [[6.99580096e-06, 7.23703579e-06, 5.42777661e-06],\n",
              "         [7.29734438e-06, 7.35765298e-06, 5.66901099e-06],\n",
              "         [7.77981404e-06, 7.71950545e-06, 6.09117160e-06],\n",
              "         ...,\n",
              "         [6.99580096e-06, 6.93549237e-06, 5.66901099e-06],\n",
              "         [4.10098710e-06, 3.92006132e-06, 3.49790048e-06],\n",
              "         [1.62833305e-06, 1.56802435e-06, 1.56802435e-06]]]],\n",
              "      dtype=float32)"
            ]
          },
          "metadata": {},
          "execution_count": 9
        }
      ]
    },
    {
      "cell_type": "code",
      "source": [
        "#test\n"
      ],
      "metadata": {
        "id": "7A6ellZSwMpP"
      },
      "execution_count": null,
      "outputs": []
    },
    {
      "cell_type": "markdown",
      "source": [
        "Model Architecture"
      ],
      "metadata": {
        "id": "DdFcoB3bhpQU"
      }
    },
    {
      "cell_type": "code",
      "source": [
        "from tensorflow.keras.models import Sequential\n",
        "from tensorflow.keras.layers import Conv2D, MaxPooling2D, Flatten, Dense, Dropout, Input\n",
        "\n",
        "# Define the model\n",
        "model = Sequential()\n",
        "\n",
        "# Add Input layer explicitly\n",
        "model.add(Input(shape=(32, 32, 3)))\n",
        "\n",
        "# Add convolutional layers and pooling layers\n",
        "model.add(Conv2D(32, (3, 3), activation='relu'))\n",
        "model.add(MaxPooling2D(pool_size=(2, 2)))\n",
        "\n",
        "model.add(Conv2D(64, (3, 3), activation='relu'))\n",
        "model.add(MaxPooling2D(pool_size=(2, 2)))\n",
        "\n",
        "model.add(Conv2D(128, (3, 3), activation='relu'))\n",
        "model.add(MaxPooling2D(pool_size=(2, 2)))\n",
        "\n",
        "# Flatten the output of the convolutional layers\n",
        "model.add(Flatten())\n",
        "\n",
        "# Add fully connected (dense) layers\n",
        "model.add(Dense(128, activation='relu'))\n",
        "model.add(Dropout(0.5))  # Dropout to avoid overfitting\n",
        "model.add(Dense(10, activation='softmax'))  # Output layer (10 classes)\n"
      ],
      "metadata": {
        "id": "-oPYAEodhtXH"
      },
      "execution_count": 11,
      "outputs": []
    },
    {
      "cell_type": "code",
      "source": [
        "# Compile the model\n",
        "model.compile(\n",
        "    loss='categorical_crossentropy',\n",
        "    optimizer='adam',\n",
        "    metrics=['accuracy']\n",
        ")"
      ],
      "metadata": {
        "id": "RNbBaujhhtop"
      },
      "execution_count": 7,
      "outputs": []
    },
    {
      "cell_type": "code",
      "source": [
        "# Display the model\n",
        "model.summary()"
      ],
      "metadata": {
        "colab": {
          "base_uri": "https://localhost:8080/",
          "height": 466
        },
        "id": "pKo1_8NqjhJi",
        "outputId": "7e5adbf4-15aa-4ba4-cdeb-f4850e17fbf5"
      },
      "execution_count": 9,
      "outputs": [
        {
          "output_type": "display_data",
          "data": {
            "text/plain": [
              "\u001b[1mModel: \"sequential\"\u001b[0m\n"
            ],
            "text/html": [
              "<pre style=\"white-space:pre;overflow-x:auto;line-height:normal;font-family:Menlo,'DejaVu Sans Mono',consolas,'Courier New',monospace\"><span style=\"font-weight: bold\">Model: \"sequential\"</span>\n",
              "</pre>\n"
            ]
          },
          "metadata": {}
        },
        {
          "output_type": "display_data",
          "data": {
            "text/plain": [
              "┏━━━━━━━━━━━━━━━━━━━━━━━━━━━━━━━━━━━━━━┳━━━━━━━━━━━━━━━━━━━━━━━━━━━━━┳━━━━━━━━━━━━━━━━━┓\n",
              "┃\u001b[1m \u001b[0m\u001b[1mLayer (type)                        \u001b[0m\u001b[1m \u001b[0m┃\u001b[1m \u001b[0m\u001b[1mOutput Shape               \u001b[0m\u001b[1m \u001b[0m┃\u001b[1m \u001b[0m\u001b[1m        Param #\u001b[0m\u001b[1m \u001b[0m┃\n",
              "┡━━━━━━━━━━━━━━━━━━━━━━━━━━━━━━━━━━━━━━╇━━━━━━━━━━━━━━━━━━━━━━━━━━━━━╇━━━━━━━━━━━━━━━━━┩\n",
              "│ conv2d (\u001b[38;5;33mConv2D\u001b[0m)                      │ (\u001b[38;5;45mNone\u001b[0m, \u001b[38;5;34m30\u001b[0m, \u001b[38;5;34m30\u001b[0m, \u001b[38;5;34m32\u001b[0m)          │             \u001b[38;5;34m896\u001b[0m │\n",
              "├──────────────────────────────────────┼─────────────────────────────┼─────────────────┤\n",
              "│ max_pooling2d (\u001b[38;5;33mMaxPooling2D\u001b[0m)         │ (\u001b[38;5;45mNone\u001b[0m, \u001b[38;5;34m15\u001b[0m, \u001b[38;5;34m15\u001b[0m, \u001b[38;5;34m32\u001b[0m)          │               \u001b[38;5;34m0\u001b[0m │\n",
              "├──────────────────────────────────────┼─────────────────────────────┼─────────────────┤\n",
              "│ conv2d_1 (\u001b[38;5;33mConv2D\u001b[0m)                    │ (\u001b[38;5;45mNone\u001b[0m, \u001b[38;5;34m13\u001b[0m, \u001b[38;5;34m13\u001b[0m, \u001b[38;5;34m64\u001b[0m)          │          \u001b[38;5;34m18,496\u001b[0m │\n",
              "├──────────────────────────────────────┼─────────────────────────────┼─────────────────┤\n",
              "│ max_pooling2d_1 (\u001b[38;5;33mMaxPooling2D\u001b[0m)       │ (\u001b[38;5;45mNone\u001b[0m, \u001b[38;5;34m6\u001b[0m, \u001b[38;5;34m6\u001b[0m, \u001b[38;5;34m64\u001b[0m)            │               \u001b[38;5;34m0\u001b[0m │\n",
              "├──────────────────────────────────────┼─────────────────────────────┼─────────────────┤\n",
              "│ conv2d_2 (\u001b[38;5;33mConv2D\u001b[0m)                    │ (\u001b[38;5;45mNone\u001b[0m, \u001b[38;5;34m4\u001b[0m, \u001b[38;5;34m4\u001b[0m, \u001b[38;5;34m128\u001b[0m)           │          \u001b[38;5;34m73,856\u001b[0m │\n",
              "├──────────────────────────────────────┼─────────────────────────────┼─────────────────┤\n",
              "│ max_pooling2d_2 (\u001b[38;5;33mMaxPooling2D\u001b[0m)       │ (\u001b[38;5;45mNone\u001b[0m, \u001b[38;5;34m2\u001b[0m, \u001b[38;5;34m2\u001b[0m, \u001b[38;5;34m128\u001b[0m)           │               \u001b[38;5;34m0\u001b[0m │\n",
              "├──────────────────────────────────────┼─────────────────────────────┼─────────────────┤\n",
              "│ flatten (\u001b[38;5;33mFlatten\u001b[0m)                    │ (\u001b[38;5;45mNone\u001b[0m, \u001b[38;5;34m512\u001b[0m)                 │               \u001b[38;5;34m0\u001b[0m │\n",
              "├──────────────────────────────────────┼─────────────────────────────┼─────────────────┤\n",
              "│ dense (\u001b[38;5;33mDense\u001b[0m)                        │ (\u001b[38;5;45mNone\u001b[0m, \u001b[38;5;34m128\u001b[0m)                 │          \u001b[38;5;34m65,664\u001b[0m │\n",
              "├──────────────────────────────────────┼─────────────────────────────┼─────────────────┤\n",
              "│ dropout (\u001b[38;5;33mDropout\u001b[0m)                    │ (\u001b[38;5;45mNone\u001b[0m, \u001b[38;5;34m128\u001b[0m)                 │               \u001b[38;5;34m0\u001b[0m │\n",
              "├──────────────────────────────────────┼─────────────────────────────┼─────────────────┤\n",
              "│ dense_1 (\u001b[38;5;33mDense\u001b[0m)                      │ (\u001b[38;5;45mNone\u001b[0m, \u001b[38;5;34m10\u001b[0m)                  │           \u001b[38;5;34m1,290\u001b[0m │\n",
              "└──────────────────────────────────────┴─────────────────────────────┴─────────────────┘\n"
            ],
            "text/html": [
              "<pre style=\"white-space:pre;overflow-x:auto;line-height:normal;font-family:Menlo,'DejaVu Sans Mono',consolas,'Courier New',monospace\">┏━━━━━━━━━━━━━━━━━━━━━━━━━━━━━━━━━━━━━━┳━━━━━━━━━━━━━━━━━━━━━━━━━━━━━┳━━━━━━━━━━━━━━━━━┓\n",
              "┃<span style=\"font-weight: bold\"> Layer (type)                         </span>┃<span style=\"font-weight: bold\"> Output Shape                </span>┃<span style=\"font-weight: bold\">         Param # </span>┃\n",
              "┡━━━━━━━━━━━━━━━━━━━━━━━━━━━━━━━━━━━━━━╇━━━━━━━━━━━━━━━━━━━━━━━━━━━━━╇━━━━━━━━━━━━━━━━━┩\n",
              "│ conv2d (<span style=\"color: #0087ff; text-decoration-color: #0087ff\">Conv2D</span>)                      │ (<span style=\"color: #00d7ff; text-decoration-color: #00d7ff\">None</span>, <span style=\"color: #00af00; text-decoration-color: #00af00\">30</span>, <span style=\"color: #00af00; text-decoration-color: #00af00\">30</span>, <span style=\"color: #00af00; text-decoration-color: #00af00\">32</span>)          │             <span style=\"color: #00af00; text-decoration-color: #00af00\">896</span> │\n",
              "├──────────────────────────────────────┼─────────────────────────────┼─────────────────┤\n",
              "│ max_pooling2d (<span style=\"color: #0087ff; text-decoration-color: #0087ff\">MaxPooling2D</span>)         │ (<span style=\"color: #00d7ff; text-decoration-color: #00d7ff\">None</span>, <span style=\"color: #00af00; text-decoration-color: #00af00\">15</span>, <span style=\"color: #00af00; text-decoration-color: #00af00\">15</span>, <span style=\"color: #00af00; text-decoration-color: #00af00\">32</span>)          │               <span style=\"color: #00af00; text-decoration-color: #00af00\">0</span> │\n",
              "├──────────────────────────────────────┼─────────────────────────────┼─────────────────┤\n",
              "│ conv2d_1 (<span style=\"color: #0087ff; text-decoration-color: #0087ff\">Conv2D</span>)                    │ (<span style=\"color: #00d7ff; text-decoration-color: #00d7ff\">None</span>, <span style=\"color: #00af00; text-decoration-color: #00af00\">13</span>, <span style=\"color: #00af00; text-decoration-color: #00af00\">13</span>, <span style=\"color: #00af00; text-decoration-color: #00af00\">64</span>)          │          <span style=\"color: #00af00; text-decoration-color: #00af00\">18,496</span> │\n",
              "├──────────────────────────────────────┼─────────────────────────────┼─────────────────┤\n",
              "│ max_pooling2d_1 (<span style=\"color: #0087ff; text-decoration-color: #0087ff\">MaxPooling2D</span>)       │ (<span style=\"color: #00d7ff; text-decoration-color: #00d7ff\">None</span>, <span style=\"color: #00af00; text-decoration-color: #00af00\">6</span>, <span style=\"color: #00af00; text-decoration-color: #00af00\">6</span>, <span style=\"color: #00af00; text-decoration-color: #00af00\">64</span>)            │               <span style=\"color: #00af00; text-decoration-color: #00af00\">0</span> │\n",
              "├──────────────────────────────────────┼─────────────────────────────┼─────────────────┤\n",
              "│ conv2d_2 (<span style=\"color: #0087ff; text-decoration-color: #0087ff\">Conv2D</span>)                    │ (<span style=\"color: #00d7ff; text-decoration-color: #00d7ff\">None</span>, <span style=\"color: #00af00; text-decoration-color: #00af00\">4</span>, <span style=\"color: #00af00; text-decoration-color: #00af00\">4</span>, <span style=\"color: #00af00; text-decoration-color: #00af00\">128</span>)           │          <span style=\"color: #00af00; text-decoration-color: #00af00\">73,856</span> │\n",
              "├──────────────────────────────────────┼─────────────────────────────┼─────────────────┤\n",
              "│ max_pooling2d_2 (<span style=\"color: #0087ff; text-decoration-color: #0087ff\">MaxPooling2D</span>)       │ (<span style=\"color: #00d7ff; text-decoration-color: #00d7ff\">None</span>, <span style=\"color: #00af00; text-decoration-color: #00af00\">2</span>, <span style=\"color: #00af00; text-decoration-color: #00af00\">2</span>, <span style=\"color: #00af00; text-decoration-color: #00af00\">128</span>)           │               <span style=\"color: #00af00; text-decoration-color: #00af00\">0</span> │\n",
              "├──────────────────────────────────────┼─────────────────────────────┼─────────────────┤\n",
              "│ flatten (<span style=\"color: #0087ff; text-decoration-color: #0087ff\">Flatten</span>)                    │ (<span style=\"color: #00d7ff; text-decoration-color: #00d7ff\">None</span>, <span style=\"color: #00af00; text-decoration-color: #00af00\">512</span>)                 │               <span style=\"color: #00af00; text-decoration-color: #00af00\">0</span> │\n",
              "├──────────────────────────────────────┼─────────────────────────────┼─────────────────┤\n",
              "│ dense (<span style=\"color: #0087ff; text-decoration-color: #0087ff\">Dense</span>)                        │ (<span style=\"color: #00d7ff; text-decoration-color: #00d7ff\">None</span>, <span style=\"color: #00af00; text-decoration-color: #00af00\">128</span>)                 │          <span style=\"color: #00af00; text-decoration-color: #00af00\">65,664</span> │\n",
              "├──────────────────────────────────────┼─────────────────────────────┼─────────────────┤\n",
              "│ dropout (<span style=\"color: #0087ff; text-decoration-color: #0087ff\">Dropout</span>)                    │ (<span style=\"color: #00d7ff; text-decoration-color: #00d7ff\">None</span>, <span style=\"color: #00af00; text-decoration-color: #00af00\">128</span>)                 │               <span style=\"color: #00af00; text-decoration-color: #00af00\">0</span> │\n",
              "├──────────────────────────────────────┼─────────────────────────────┼─────────────────┤\n",
              "│ dense_1 (<span style=\"color: #0087ff; text-decoration-color: #0087ff\">Dense</span>)                      │ (<span style=\"color: #00d7ff; text-decoration-color: #00d7ff\">None</span>, <span style=\"color: #00af00; text-decoration-color: #00af00\">10</span>)                  │           <span style=\"color: #00af00; text-decoration-color: #00af00\">1,290</span> │\n",
              "└──────────────────────────────────────┴─────────────────────────────┴─────────────────┘\n",
              "</pre>\n"
            ]
          },
          "metadata": {}
        },
        {
          "output_type": "display_data",
          "data": {
            "text/plain": [
              "\u001b[1m Total params: \u001b[0m\u001b[38;5;34m160,202\u001b[0m (625.79 KB)\n"
            ],
            "text/html": [
              "<pre style=\"white-space:pre;overflow-x:auto;line-height:normal;font-family:Menlo,'DejaVu Sans Mono',consolas,'Courier New',monospace\"><span style=\"font-weight: bold\"> Total params: </span><span style=\"color: #00af00; text-decoration-color: #00af00\">160,202</span> (625.79 KB)\n",
              "</pre>\n"
            ]
          },
          "metadata": {}
        },
        {
          "output_type": "display_data",
          "data": {
            "text/plain": [
              "\u001b[1m Trainable params: \u001b[0m\u001b[38;5;34m160,202\u001b[0m (625.79 KB)\n"
            ],
            "text/html": [
              "<pre style=\"white-space:pre;overflow-x:auto;line-height:normal;font-family:Menlo,'DejaVu Sans Mono',consolas,'Courier New',monospace\"><span style=\"font-weight: bold\"> Trainable params: </span><span style=\"color: #00af00; text-decoration-color: #00af00\">160,202</span> (625.79 KB)\n",
              "</pre>\n"
            ]
          },
          "metadata": {}
        },
        {
          "output_type": "display_data",
          "data": {
            "text/plain": [
              "\u001b[1m Non-trainable params: \u001b[0m\u001b[38;5;34m0\u001b[0m (0.00 B)\n"
            ],
            "text/html": [
              "<pre style=\"white-space:pre;overflow-x:auto;line-height:normal;font-family:Menlo,'DejaVu Sans Mono',consolas,'Courier New',monospace\"><span style=\"font-weight: bold\"> Non-trainable params: </span><span style=\"color: #00af00; text-decoration-color: #00af00\">0</span> (0.00 B)\n",
              "</pre>\n"
            ]
          },
          "metadata": {}
        }
      ]
    },
    {
      "cell_type": "markdown",
      "source": [
        "Model Evaluation"
      ],
      "metadata": {
        "id": "HUibk_DbbA-w"
      }
    },
    {
      "cell_type": "code",
      "source": [],
      "metadata": {
        "id": "LH-9fFQqjeBl"
      },
      "execution_count": null,
      "outputs": []
    },
    {
      "cell_type": "code",
      "source": [],
      "metadata": {
        "id": "JbJtgsDUjd23"
      },
      "execution_count": null,
      "outputs": []
    },
    {
      "cell_type": "code",
      "source": [],
      "metadata": {
        "id": "WGs5By65jdos"
      },
      "execution_count": null,
      "outputs": []
    }
  ]
}